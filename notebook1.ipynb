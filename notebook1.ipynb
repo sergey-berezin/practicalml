{
 "cells": [
  {
   "cell_type": "markdown",
   "id": "another-awareness",
   "metadata": {},
   "source": [
    "$x_i={i\\over 100}; i=\\overline{0,100}$"
   ]
  },
  {
   "cell_type": "code",
   "execution_count": 6,
   "id": "determined-cabinet",
   "metadata": {},
   "outputs": [],
   "source": [
    "def x(i):\n",
    "    return i/100"
   ]
  },
  {
   "cell_type": "code",
   "execution_count": 7,
   "id": "third-median",
   "metadata": {},
   "outputs": [
    {
     "data": {
      "text/plain": [
       "[0.0,\n",
       " 0.01,\n",
       " 0.02,\n",
       " 0.03,\n",
       " 0.04,\n",
       " 0.05,\n",
       " 0.06,\n",
       " 0.07,\n",
       " 0.08,\n",
       " 0.09,\n",
       " 0.1,\n",
       " 0.11,\n",
       " 0.12,\n",
       " 0.13,\n",
       " 0.14,\n",
       " 0.15,\n",
       " 0.16,\n",
       " 0.17,\n",
       " 0.18,\n",
       " 0.19,\n",
       " 0.2,\n",
       " 0.21,\n",
       " 0.22,\n",
       " 0.23,\n",
       " 0.24,\n",
       " 0.25,\n",
       " 0.26,\n",
       " 0.27,\n",
       " 0.28,\n",
       " 0.29,\n",
       " 0.3,\n",
       " 0.31,\n",
       " 0.32,\n",
       " 0.33,\n",
       " 0.34,\n",
       " 0.35,\n",
       " 0.36,\n",
       " 0.37,\n",
       " 0.38,\n",
       " 0.39,\n",
       " 0.4,\n",
       " 0.41,\n",
       " 0.42,\n",
       " 0.43,\n",
       " 0.44,\n",
       " 0.45,\n",
       " 0.46,\n",
       " 0.47,\n",
       " 0.48,\n",
       " 0.49,\n",
       " 0.5,\n",
       " 0.51,\n",
       " 0.52,\n",
       " 0.53,\n",
       " 0.54,\n",
       " 0.55,\n",
       " 0.56,\n",
       " 0.57,\n",
       " 0.58,\n",
       " 0.59,\n",
       " 0.6,\n",
       " 0.61,\n",
       " 0.62,\n",
       " 0.63,\n",
       " 0.64,\n",
       " 0.65,\n",
       " 0.66,\n",
       " 0.67,\n",
       " 0.68,\n",
       " 0.69,\n",
       " 0.7,\n",
       " 0.71,\n",
       " 0.72,\n",
       " 0.73,\n",
       " 0.74,\n",
       " 0.75,\n",
       " 0.76,\n",
       " 0.77,\n",
       " 0.78,\n",
       " 0.79,\n",
       " 0.8,\n",
       " 0.81,\n",
       " 0.82,\n",
       " 0.83,\n",
       " 0.84,\n",
       " 0.85,\n",
       " 0.86,\n",
       " 0.87,\n",
       " 0.88,\n",
       " 0.89,\n",
       " 0.9,\n",
       " 0.91,\n",
       " 0.92,\n",
       " 0.93,\n",
       " 0.94,\n",
       " 0.95,\n",
       " 0.96,\n",
       " 0.97,\n",
       " 0.98,\n",
       " 0.99,\n",
       " 1.0]"
      ]
     },
     "execution_count": 7,
     "metadata": {},
     "output_type": "execute_result"
    }
   ],
   "source": [
    "[x(i) for i in range(0,101)]"
   ]
  },
  {
   "cell_type": "code",
   "execution_count": 8,
   "id": "double-pressure",
   "metadata": {},
   "outputs": [],
   "source": [
    "xx = [x(i) for i in range(0,101)]"
   ]
  },
  {
   "cell_type": "code",
   "execution_count": 9,
   "id": "complex-livestock",
   "metadata": {},
   "outputs": [
    {
     "data": {
      "text/plain": [
       "<function __main__.x(i)>"
      ]
     },
     "execution_count": 9,
     "metadata": {},
     "output_type": "execute_result"
    }
   ],
   "source": [
    "x"
   ]
  },
  {
   "cell_type": "code",
   "execution_count": 10,
   "id": "concrete-foundation",
   "metadata": {},
   "outputs": [
    {
     "data": {
      "text/plain": [
       "[0.0,\n",
       " 0.01,\n",
       " 0.02,\n",
       " 0.03,\n",
       " 0.04,\n",
       " 0.05,\n",
       " 0.06,\n",
       " 0.07,\n",
       " 0.08,\n",
       " 0.09,\n",
       " 0.1,\n",
       " 0.11,\n",
       " 0.12,\n",
       " 0.13,\n",
       " 0.14,\n",
       " 0.15,\n",
       " 0.16,\n",
       " 0.17,\n",
       " 0.18,\n",
       " 0.19,\n",
       " 0.2,\n",
       " 0.21,\n",
       " 0.22,\n",
       " 0.23,\n",
       " 0.24,\n",
       " 0.25,\n",
       " 0.26,\n",
       " 0.27,\n",
       " 0.28,\n",
       " 0.29,\n",
       " 0.3,\n",
       " 0.31,\n",
       " 0.32,\n",
       " 0.33,\n",
       " 0.34,\n",
       " 0.35,\n",
       " 0.36,\n",
       " 0.37,\n",
       " 0.38,\n",
       " 0.39,\n",
       " 0.4,\n",
       " 0.41,\n",
       " 0.42,\n",
       " 0.43,\n",
       " 0.44,\n",
       " 0.45,\n",
       " 0.46,\n",
       " 0.47,\n",
       " 0.48,\n",
       " 0.49,\n",
       " 0.5,\n",
       " 0.51,\n",
       " 0.52,\n",
       " 0.53,\n",
       " 0.54,\n",
       " 0.55,\n",
       " 0.56,\n",
       " 0.57,\n",
       " 0.58,\n",
       " 0.59,\n",
       " 0.6,\n",
       " 0.61,\n",
       " 0.62,\n",
       " 0.63,\n",
       " 0.64,\n",
       " 0.65,\n",
       " 0.66,\n",
       " 0.67,\n",
       " 0.68,\n",
       " 0.69,\n",
       " 0.7,\n",
       " 0.71,\n",
       " 0.72,\n",
       " 0.73,\n",
       " 0.74,\n",
       " 0.75,\n",
       " 0.76,\n",
       " 0.77,\n",
       " 0.78,\n",
       " 0.79,\n",
       " 0.8,\n",
       " 0.81,\n",
       " 0.82,\n",
       " 0.83,\n",
       " 0.84,\n",
       " 0.85,\n",
       " 0.86,\n",
       " 0.87,\n",
       " 0.88,\n",
       " 0.89,\n",
       " 0.9,\n",
       " 0.91,\n",
       " 0.92,\n",
       " 0.93,\n",
       " 0.94,\n",
       " 0.95,\n",
       " 0.96,\n",
       " 0.97,\n",
       " 0.98,\n",
       " 0.99,\n",
       " 1.0]"
      ]
     },
     "execution_count": 10,
     "metadata": {},
     "output_type": "execute_result"
    }
   ],
   "source": [
    "xx"
   ]
  },
  {
   "cell_type": "code",
   "execution_count": 11,
   "id": "suspected-script",
   "metadata": {},
   "outputs": [],
   "source": [
    "import numpy as np"
   ]
  },
  {
   "cell_type": "code",
   "execution_count": 12,
   "id": "resident-median",
   "metadata": {},
   "outputs": [],
   "source": [
    "x3 = np.array(xx)"
   ]
  },
  {
   "cell_type": "code",
   "execution_count": 13,
   "id": "fleet-puppy",
   "metadata": {},
   "outputs": [
    {
     "data": {
      "text/plain": [
       "array([0.  , 0.01, 0.02, 0.03, 0.04, 0.05, 0.06, 0.07, 0.08, 0.09, 0.1 ,\n",
       "       0.11, 0.12, 0.13, 0.14, 0.15, 0.16, 0.17, 0.18, 0.19, 0.2 , 0.21,\n",
       "       0.22, 0.23, 0.24, 0.25, 0.26, 0.27, 0.28, 0.29, 0.3 , 0.31, 0.32,\n",
       "       0.33, 0.34, 0.35, 0.36, 0.37, 0.38, 0.39, 0.4 , 0.41, 0.42, 0.43,\n",
       "       0.44, 0.45, 0.46, 0.47, 0.48, 0.49, 0.5 , 0.51, 0.52, 0.53, 0.54,\n",
       "       0.55, 0.56, 0.57, 0.58, 0.59, 0.6 , 0.61, 0.62, 0.63, 0.64, 0.65,\n",
       "       0.66, 0.67, 0.68, 0.69, 0.7 , 0.71, 0.72, 0.73, 0.74, 0.75, 0.76,\n",
       "       0.77, 0.78, 0.79, 0.8 , 0.81, 0.82, 0.83, 0.84, 0.85, 0.86, 0.87,\n",
       "       0.88, 0.89, 0.9 , 0.91, 0.92, 0.93, 0.94, 0.95, 0.96, 0.97, 0.98,\n",
       "       0.99, 1.  ])"
      ]
     },
     "execution_count": 13,
     "metadata": {},
     "output_type": "execute_result"
    }
   ],
   "source": [
    "x3"
   ]
  },
  {
   "cell_type": "code",
   "execution_count": 14,
   "id": "lesser-nursing",
   "metadata": {},
   "outputs": [],
   "source": [
    "def y(x):\n",
    "    return 2*x - 3.1415"
   ]
  },
  {
   "cell_type": "code",
   "execution_count": 15,
   "id": "brilliant-valentine",
   "metadata": {},
   "outputs": [],
   "source": [
    "y3 = np.array([y(x) for x in x3])"
   ]
  },
  {
   "cell_type": "code",
   "execution_count": 16,
   "id": "coupled-seller",
   "metadata": {},
   "outputs": [
    {
     "data": {
      "text/plain": [
       "array([-3.1415, -3.1215, -3.1015, -3.0815, -3.0615, -3.0415, -3.0215,\n",
       "       -3.0015, -2.9815, -2.9615, -2.9415, -2.9215, -2.9015, -2.8815,\n",
       "       -2.8615, -2.8415, -2.8215, -2.8015, -2.7815, -2.7615, -2.7415,\n",
       "       -2.7215, -2.7015, -2.6815, -2.6615, -2.6415, -2.6215, -2.6015,\n",
       "       -2.5815, -2.5615, -2.5415, -2.5215, -2.5015, -2.4815, -2.4615,\n",
       "       -2.4415, -2.4215, -2.4015, -2.3815, -2.3615, -2.3415, -2.3215,\n",
       "       -2.3015, -2.2815, -2.2615, -2.2415, -2.2215, -2.2015, -2.1815,\n",
       "       -2.1615, -2.1415, -2.1215, -2.1015, -2.0815, -2.0615, -2.0415,\n",
       "       -2.0215, -2.0015, -1.9815, -1.9615, -1.9415, -1.9215, -1.9015,\n",
       "       -1.8815, -1.8615, -1.8415, -1.8215, -1.8015, -1.7815, -1.7615,\n",
       "       -1.7415, -1.7215, -1.7015, -1.6815, -1.6615, -1.6415, -1.6215,\n",
       "       -1.6015, -1.5815, -1.5615, -1.5415, -1.5215, -1.5015, -1.4815,\n",
       "       -1.4615, -1.4415, -1.4215, -1.4015, -1.3815, -1.3615, -1.3415,\n",
       "       -1.3215, -1.3015, -1.2815, -1.2615, -1.2415, -1.2215, -1.2015,\n",
       "       -1.1815, -1.1615, -1.1415])"
      ]
     },
     "execution_count": 16,
     "metadata": {},
     "output_type": "execute_result"
    }
   ],
   "source": [
    "y3"
   ]
  },
  {
   "cell_type": "code",
   "execution_count": 17,
   "id": "rocky-repository",
   "metadata": {},
   "outputs": [
    {
     "data": {
      "text/html": [
       "\n",
       "    <div class=\"bk-root\">\n",
       "        <a href=\"https://bokeh.org\" target=\"_blank\" class=\"bk-logo bk-logo-small bk-logo-notebook\"></a>\n",
       "        <span id=\"1034\">Loading BokehJS ...</span>\n",
       "    </div>"
      ]
     },
     "metadata": {},
     "output_type": "display_data"
    },
    {
     "data": {
      "application/javascript": [
       "\n",
       "(function(root) {\n",
       "  function now() {\n",
       "    return new Date();\n",
       "  }\n",
       "\n",
       "  var force = true;\n",
       "\n",
       "  if (typeof root._bokeh_onload_callbacks === \"undefined\" || force === true) {\n",
       "    root._bokeh_onload_callbacks = [];\n",
       "    root._bokeh_is_loading = undefined;\n",
       "  }\n",
       "\n",
       "  var JS_MIME_TYPE = 'application/javascript';\n",
       "  var HTML_MIME_TYPE = 'text/html';\n",
       "  var EXEC_MIME_TYPE = 'application/vnd.bokehjs_exec.v0+json';\n",
       "  var CLASS_NAME = 'output_bokeh rendered_html';\n",
       "\n",
       "  /**\n",
       "   * Render data to the DOM node\n",
       "   */\n",
       "  function render(props, node) {\n",
       "    var script = document.createElement(\"script\");\n",
       "    node.appendChild(script);\n",
       "  }\n",
       "\n",
       "  /**\n",
       "   * Handle when an output is cleared or removed\n",
       "   */\n",
       "  function handleClearOutput(event, handle) {\n",
       "    var cell = handle.cell;\n",
       "\n",
       "    var id = cell.output_area._bokeh_element_id;\n",
       "    var server_id = cell.output_area._bokeh_server_id;\n",
       "    // Clean up Bokeh references\n",
       "    if (id != null && id in Bokeh.index) {\n",
       "      Bokeh.index[id].model.document.clear();\n",
       "      delete Bokeh.index[id];\n",
       "    }\n",
       "\n",
       "    if (server_id !== undefined) {\n",
       "      // Clean up Bokeh references\n",
       "      var cmd = \"from bokeh.io.state import curstate; print(curstate().uuid_to_server['\" + server_id + \"'].get_sessions()[0].document.roots[0]._id)\";\n",
       "      cell.notebook.kernel.execute(cmd, {\n",
       "        iopub: {\n",
       "          output: function(msg) {\n",
       "            var id = msg.content.text.trim();\n",
       "            if (id in Bokeh.index) {\n",
       "              Bokeh.index[id].model.document.clear();\n",
       "              delete Bokeh.index[id];\n",
       "            }\n",
       "          }\n",
       "        }\n",
       "      });\n",
       "      // Destroy server and session\n",
       "      var cmd = \"import bokeh.io.notebook as ion; ion.destroy_server('\" + server_id + \"')\";\n",
       "      cell.notebook.kernel.execute(cmd);\n",
       "    }\n",
       "  }\n",
       "\n",
       "  /**\n",
       "   * Handle when a new output is added\n",
       "   */\n",
       "  function handleAddOutput(event, handle) {\n",
       "    var output_area = handle.output_area;\n",
       "    var output = handle.output;\n",
       "\n",
       "    // limit handleAddOutput to display_data with EXEC_MIME_TYPE content only\n",
       "    if ((output.output_type != \"display_data\") || (!Object.prototype.hasOwnProperty.call(output.data, EXEC_MIME_TYPE))) {\n",
       "      return\n",
       "    }\n",
       "\n",
       "    var toinsert = output_area.element.find(\".\" + CLASS_NAME.split(' ')[0]);\n",
       "\n",
       "    if (output.metadata[EXEC_MIME_TYPE][\"id\"] !== undefined) {\n",
       "      toinsert[toinsert.length - 1].firstChild.textContent = output.data[JS_MIME_TYPE];\n",
       "      // store reference to embed id on output_area\n",
       "      output_area._bokeh_element_id = output.metadata[EXEC_MIME_TYPE][\"id\"];\n",
       "    }\n",
       "    if (output.metadata[EXEC_MIME_TYPE][\"server_id\"] !== undefined) {\n",
       "      var bk_div = document.createElement(\"div\");\n",
       "      bk_div.innerHTML = output.data[HTML_MIME_TYPE];\n",
       "      var script_attrs = bk_div.children[0].attributes;\n",
       "      for (var i = 0; i < script_attrs.length; i++) {\n",
       "        toinsert[toinsert.length - 1].firstChild.setAttribute(script_attrs[i].name, script_attrs[i].value);\n",
       "        toinsert[toinsert.length - 1].firstChild.textContent = bk_div.children[0].textContent\n",
       "      }\n",
       "      // store reference to server id on output_area\n",
       "      output_area._bokeh_server_id = output.metadata[EXEC_MIME_TYPE][\"server_id\"];\n",
       "    }\n",
       "  }\n",
       "\n",
       "  function register_renderer(events, OutputArea) {\n",
       "\n",
       "    function append_mime(data, metadata, element) {\n",
       "      // create a DOM node to render to\n",
       "      var toinsert = this.create_output_subarea(\n",
       "        metadata,\n",
       "        CLASS_NAME,\n",
       "        EXEC_MIME_TYPE\n",
       "      );\n",
       "      this.keyboard_manager.register_events(toinsert);\n",
       "      // Render to node\n",
       "      var props = {data: data, metadata: metadata[EXEC_MIME_TYPE]};\n",
       "      render(props, toinsert[toinsert.length - 1]);\n",
       "      element.append(toinsert);\n",
       "      return toinsert\n",
       "    }\n",
       "\n",
       "    /* Handle when an output is cleared or removed */\n",
       "    events.on('clear_output.CodeCell', handleClearOutput);\n",
       "    events.on('delete.Cell', handleClearOutput);\n",
       "\n",
       "    /* Handle when a new output is added */\n",
       "    events.on('output_added.OutputArea', handleAddOutput);\n",
       "\n",
       "    /**\n",
       "     * Register the mime type and append_mime function with output_area\n",
       "     */\n",
       "    OutputArea.prototype.register_mime_type(EXEC_MIME_TYPE, append_mime, {\n",
       "      /* Is output safe? */\n",
       "      safe: true,\n",
       "      /* Index of renderer in `output_area.display_order` */\n",
       "      index: 0\n",
       "    });\n",
       "  }\n",
       "\n",
       "  // register the mime type if in Jupyter Notebook environment and previously unregistered\n",
       "  if (root.Jupyter !== undefined) {\n",
       "    var events = require('base/js/events');\n",
       "    var OutputArea = require('notebook/js/outputarea').OutputArea;\n",
       "\n",
       "    if (OutputArea.prototype.mime_types().indexOf(EXEC_MIME_TYPE) == -1) {\n",
       "      register_renderer(events, OutputArea);\n",
       "    }\n",
       "  }\n",
       "\n",
       "  \n",
       "  if (typeof (root._bokeh_timeout) === \"undefined\" || force === true) {\n",
       "    root._bokeh_timeout = Date.now() + 5000;\n",
       "    root._bokeh_failed_load = false;\n",
       "  }\n",
       "\n",
       "  var NB_LOAD_WARNING = {'data': {'text/html':\n",
       "     \"<div style='background-color: #fdd'>\\n\"+\n",
       "     \"<p>\\n\"+\n",
       "     \"BokehJS does not appear to have successfully loaded. If loading BokehJS from CDN, this \\n\"+\n",
       "     \"may be due to a slow or bad network connection. Possible fixes:\\n\"+\n",
       "     \"</p>\\n\"+\n",
       "     \"<ul>\\n\"+\n",
       "     \"<li>re-rerun `output_notebook()` to attempt to load from CDN again, or</li>\\n\"+\n",
       "     \"<li>use INLINE resources instead, as so:</li>\\n\"+\n",
       "     \"</ul>\\n\"+\n",
       "     \"<code>\\n\"+\n",
       "     \"from bokeh.resources import INLINE\\n\"+\n",
       "     \"output_notebook(resources=INLINE)\\n\"+\n",
       "     \"</code>\\n\"+\n",
       "     \"</div>\"}};\n",
       "\n",
       "  function display_loaded() {\n",
       "    var el = document.getElementById(\"1034\");\n",
       "    if (el != null) {\n",
       "      el.textContent = \"BokehJS is loading...\";\n",
       "    }\n",
       "    if (root.Bokeh !== undefined) {\n",
       "      if (el != null) {\n",
       "        el.textContent = \"BokehJS \" + root.Bokeh.version + \" successfully loaded.\";\n",
       "      }\n",
       "    } else if (Date.now() < root._bokeh_timeout) {\n",
       "      setTimeout(display_loaded, 100)\n",
       "    }\n",
       "  }\n",
       "\n",
       "\n",
       "  function run_callbacks() {\n",
       "    try {\n",
       "      root._bokeh_onload_callbacks.forEach(function(callback) {\n",
       "        if (callback != null)\n",
       "          callback();\n",
       "      });\n",
       "    } finally {\n",
       "      delete root._bokeh_onload_callbacks\n",
       "    }\n",
       "    console.debug(\"Bokeh: all callbacks have finished\");\n",
       "  }\n",
       "\n",
       "  function load_libs(css_urls, js_urls, callback) {\n",
       "    if (css_urls == null) css_urls = [];\n",
       "    if (js_urls == null) js_urls = [];\n",
       "\n",
       "    root._bokeh_onload_callbacks.push(callback);\n",
       "    if (root._bokeh_is_loading > 0) {\n",
       "      console.debug(\"Bokeh: BokehJS is being loaded, scheduling callback at\", now());\n",
       "      return null;\n",
       "    }\n",
       "    if (js_urls == null || js_urls.length === 0) {\n",
       "      run_callbacks();\n",
       "      return null;\n",
       "    }\n",
       "    console.debug(\"Bokeh: BokehJS not loaded, scheduling load and callback at\", now());\n",
       "    root._bokeh_is_loading = css_urls.length + js_urls.length;\n",
       "\n",
       "    function on_load() {\n",
       "      root._bokeh_is_loading--;\n",
       "      if (root._bokeh_is_loading === 0) {\n",
       "        console.debug(\"Bokeh: all BokehJS libraries/stylesheets loaded\");\n",
       "        run_callbacks()\n",
       "      }\n",
       "    }\n",
       "\n",
       "    function on_error(url) {\n",
       "      console.error(\"failed to load \" + url);\n",
       "    }\n",
       "\n",
       "    for (let i = 0; i < css_urls.length; i++) {\n",
       "      const url = css_urls[i];\n",
       "      const element = document.createElement(\"link\");\n",
       "      element.onload = on_load;\n",
       "      element.onerror = on_error.bind(null, url);\n",
       "      element.rel = \"stylesheet\";\n",
       "      element.type = \"text/css\";\n",
       "      element.href = url;\n",
       "      console.debug(\"Bokeh: injecting link tag for BokehJS stylesheet: \", url);\n",
       "      document.body.appendChild(element);\n",
       "    }\n",
       "\n",
       "    const hashes = {\"https://cdn.bokeh.org/bokeh/release/bokeh-2.3.0.min.js\": \"HjagQp6T0/7bxYTAXbLotF1MLAGWmhkY5siA1Gc/pcEgvgRPtMsRn0gQtMwGKiw1\", \"https://cdn.bokeh.org/bokeh/release/bokeh-widgets-2.3.0.min.js\": \"ZEPPTjL+mdyqgIq+/pl9KTwzji8Kow2NnI3zWY8+sFinWP/SYJ80BnfeJsa45iYj\", \"https://cdn.bokeh.org/bokeh/release/bokeh-tables-2.3.0.min.js\": \"exLqv2ACDRIaV7ZK1iL8aGzGYQvKVuT3U2CT7FsQREBxRah6JrkVCoFy0koY1YqV\"};\n",
       "\n",
       "    for (let i = 0; i < js_urls.length; i++) {\n",
       "      const url = js_urls[i];\n",
       "      const element = document.createElement('script');\n",
       "      element.onload = on_load;\n",
       "      element.onerror = on_error.bind(null, url);\n",
       "      element.async = false;\n",
       "      element.src = url;\n",
       "      if (url in hashes) {\n",
       "        element.crossOrigin = \"anonymous\";\n",
       "        element.integrity = \"sha384-\" + hashes[url];\n",
       "      }\n",
       "      console.debug(\"Bokeh: injecting script tag for BokehJS library: \", url);\n",
       "      document.head.appendChild(element);\n",
       "    }\n",
       "  };\n",
       "\n",
       "  function inject_raw_css(css) {\n",
       "    const element = document.createElement(\"style\");\n",
       "    element.appendChild(document.createTextNode(css));\n",
       "    document.body.appendChild(element);\n",
       "  }\n",
       "\n",
       "  \n",
       "  var js_urls = [\"https://cdn.bokeh.org/bokeh/release/bokeh-2.3.0.min.js\", \"https://cdn.bokeh.org/bokeh/release/bokeh-widgets-2.3.0.min.js\", \"https://cdn.bokeh.org/bokeh/release/bokeh-tables-2.3.0.min.js\"];\n",
       "  var css_urls = [];\n",
       "  \n",
       "\n",
       "  var inline_js = [\n",
       "    function(Bokeh) {\n",
       "      Bokeh.set_log_level(\"info\");\n",
       "    },\n",
       "    function(Bokeh) {\n",
       "    \n",
       "    \n",
       "    }\n",
       "  ];\n",
       "\n",
       "  function run_inline_js() {\n",
       "    \n",
       "    if (root.Bokeh !== undefined || force === true) {\n",
       "      \n",
       "    for (var i = 0; i < inline_js.length; i++) {\n",
       "      inline_js[i].call(root, root.Bokeh);\n",
       "    }\n",
       "    if (force === true) {\n",
       "        display_loaded();\n",
       "      }} else if (Date.now() < root._bokeh_timeout) {\n",
       "      setTimeout(run_inline_js, 100);\n",
       "    } else if (!root._bokeh_failed_load) {\n",
       "      console.log(\"Bokeh: BokehJS failed to load within specified timeout.\");\n",
       "      root._bokeh_failed_load = true;\n",
       "    } else if (force !== true) {\n",
       "      var cell = $(document.getElementById(\"1034\")).parents('.cell').data().cell;\n",
       "      cell.output_area.append_execute_result(NB_LOAD_WARNING)\n",
       "    }\n",
       "\n",
       "  }\n",
       "\n",
       "  if (root._bokeh_is_loading === 0) {\n",
       "    console.debug(\"Bokeh: BokehJS loaded, going straight to plotting\");\n",
       "    run_inline_js();\n",
       "  } else {\n",
       "    load_libs(css_urls, js_urls, function() {\n",
       "      console.debug(\"Bokeh: BokehJS plotting callback run at\", now());\n",
       "      run_inline_js();\n",
       "    });\n",
       "  }\n",
       "}(window));"
      ],
      "application/vnd.bokehjs_load.v0+json": "\n(function(root) {\n  function now() {\n    return new Date();\n  }\n\n  var force = true;\n\n  if (typeof root._bokeh_onload_callbacks === \"undefined\" || force === true) {\n    root._bokeh_onload_callbacks = [];\n    root._bokeh_is_loading = undefined;\n  }\n\n  \n\n  \n  if (typeof (root._bokeh_timeout) === \"undefined\" || force === true) {\n    root._bokeh_timeout = Date.now() + 5000;\n    root._bokeh_failed_load = false;\n  }\n\n  var NB_LOAD_WARNING = {'data': {'text/html':\n     \"<div style='background-color: #fdd'>\\n\"+\n     \"<p>\\n\"+\n     \"BokehJS does not appear to have successfully loaded. If loading BokehJS from CDN, this \\n\"+\n     \"may be due to a slow or bad network connection. Possible fixes:\\n\"+\n     \"</p>\\n\"+\n     \"<ul>\\n\"+\n     \"<li>re-rerun `output_notebook()` to attempt to load from CDN again, or</li>\\n\"+\n     \"<li>use INLINE resources instead, as so:</li>\\n\"+\n     \"</ul>\\n\"+\n     \"<code>\\n\"+\n     \"from bokeh.resources import INLINE\\n\"+\n     \"output_notebook(resources=INLINE)\\n\"+\n     \"</code>\\n\"+\n     \"</div>\"}};\n\n  function display_loaded() {\n    var el = document.getElementById(\"1034\");\n    if (el != null) {\n      el.textContent = \"BokehJS is loading...\";\n    }\n    if (root.Bokeh !== undefined) {\n      if (el != null) {\n        el.textContent = \"BokehJS \" + root.Bokeh.version + \" successfully loaded.\";\n      }\n    } else if (Date.now() < root._bokeh_timeout) {\n      setTimeout(display_loaded, 100)\n    }\n  }\n\n\n  function run_callbacks() {\n    try {\n      root._bokeh_onload_callbacks.forEach(function(callback) {\n        if (callback != null)\n          callback();\n      });\n    } finally {\n      delete root._bokeh_onload_callbacks\n    }\n    console.debug(\"Bokeh: all callbacks have finished\");\n  }\n\n  function load_libs(css_urls, js_urls, callback) {\n    if (css_urls == null) css_urls = [];\n    if (js_urls == null) js_urls = [];\n\n    root._bokeh_onload_callbacks.push(callback);\n    if (root._bokeh_is_loading > 0) {\n      console.debug(\"Bokeh: BokehJS is being loaded, scheduling callback at\", now());\n      return null;\n    }\n    if (js_urls == null || js_urls.length === 0) {\n      run_callbacks();\n      return null;\n    }\n    console.debug(\"Bokeh: BokehJS not loaded, scheduling load and callback at\", now());\n    root._bokeh_is_loading = css_urls.length + js_urls.length;\n\n    function on_load() {\n      root._bokeh_is_loading--;\n      if (root._bokeh_is_loading === 0) {\n        console.debug(\"Bokeh: all BokehJS libraries/stylesheets loaded\");\n        run_callbacks()\n      }\n    }\n\n    function on_error(url) {\n      console.error(\"failed to load \" + url);\n    }\n\n    for (let i = 0; i < css_urls.length; i++) {\n      const url = css_urls[i];\n      const element = document.createElement(\"link\");\n      element.onload = on_load;\n      element.onerror = on_error.bind(null, url);\n      element.rel = \"stylesheet\";\n      element.type = \"text/css\";\n      element.href = url;\n      console.debug(\"Bokeh: injecting link tag for BokehJS stylesheet: \", url);\n      document.body.appendChild(element);\n    }\n\n    const hashes = {\"https://cdn.bokeh.org/bokeh/release/bokeh-2.3.0.min.js\": \"HjagQp6T0/7bxYTAXbLotF1MLAGWmhkY5siA1Gc/pcEgvgRPtMsRn0gQtMwGKiw1\", \"https://cdn.bokeh.org/bokeh/release/bokeh-widgets-2.3.0.min.js\": \"ZEPPTjL+mdyqgIq+/pl9KTwzji8Kow2NnI3zWY8+sFinWP/SYJ80BnfeJsa45iYj\", \"https://cdn.bokeh.org/bokeh/release/bokeh-tables-2.3.0.min.js\": \"exLqv2ACDRIaV7ZK1iL8aGzGYQvKVuT3U2CT7FsQREBxRah6JrkVCoFy0koY1YqV\"};\n\n    for (let i = 0; i < js_urls.length; i++) {\n      const url = js_urls[i];\n      const element = document.createElement('script');\n      element.onload = on_load;\n      element.onerror = on_error.bind(null, url);\n      element.async = false;\n      element.src = url;\n      if (url in hashes) {\n        element.crossOrigin = \"anonymous\";\n        element.integrity = \"sha384-\" + hashes[url];\n      }\n      console.debug(\"Bokeh: injecting script tag for BokehJS library: \", url);\n      document.head.appendChild(element);\n    }\n  };\n\n  function inject_raw_css(css) {\n    const element = document.createElement(\"style\");\n    element.appendChild(document.createTextNode(css));\n    document.body.appendChild(element);\n  }\n\n  \n  var js_urls = [\"https://cdn.bokeh.org/bokeh/release/bokeh-2.3.0.min.js\", \"https://cdn.bokeh.org/bokeh/release/bokeh-widgets-2.3.0.min.js\", \"https://cdn.bokeh.org/bokeh/release/bokeh-tables-2.3.0.min.js\"];\n  var css_urls = [];\n  \n\n  var inline_js = [\n    function(Bokeh) {\n      Bokeh.set_log_level(\"info\");\n    },\n    function(Bokeh) {\n    \n    \n    }\n  ];\n\n  function run_inline_js() {\n    \n    if (root.Bokeh !== undefined || force === true) {\n      \n    for (var i = 0; i < inline_js.length; i++) {\n      inline_js[i].call(root, root.Bokeh);\n    }\n    if (force === true) {\n        display_loaded();\n      }} else if (Date.now() < root._bokeh_timeout) {\n      setTimeout(run_inline_js, 100);\n    } else if (!root._bokeh_failed_load) {\n      console.log(\"Bokeh: BokehJS failed to load within specified timeout.\");\n      root._bokeh_failed_load = true;\n    } else if (force !== true) {\n      var cell = $(document.getElementById(\"1034\")).parents('.cell').data().cell;\n      cell.output_area.append_execute_result(NB_LOAD_WARNING)\n    }\n\n  }\n\n  if (root._bokeh_is_loading === 0) {\n    console.debug(\"Bokeh: BokehJS loaded, going straight to plotting\");\n    run_inline_js();\n  } else {\n    load_libs(css_urls, js_urls, function() {\n      console.debug(\"Bokeh: BokehJS plotting callback run at\", now());\n      run_inline_js();\n    });\n  }\n}(window));"
     },
     "metadata": {},
     "output_type": "display_data"
    }
   ],
   "source": [
    "from bokeh.io import output_notebook\n",
    "output_notebook()"
   ]
  },
  {
   "cell_type": "code",
   "execution_count": 27,
   "id": "received-vertical",
   "metadata": {},
   "outputs": [],
   "source": [
    "import bokeh.plotting as bp"
   ]
  },
  {
   "cell_type": "code",
   "execution_count": 45,
   "id": "veterinary-yugoslavia",
   "metadata": {},
   "outputs": [],
   "source": [
    "fig = bp.figure(plot_width = 400, plot_height = 200)"
   ]
  },
  {
   "cell_type": "code",
   "execution_count": 46,
   "id": "ordinary-african",
   "metadata": {},
   "outputs": [
    {
     "data": {
      "text/html": [
       "<div style=\"display: table;\"><div style=\"display: table-row;\"><div style=\"display: table-cell;\"><b title=\"bokeh.models.renderers.GlyphRenderer\">GlyphRenderer</b>(</div><div style=\"display: table-cell;\">id&nbsp;=&nbsp;'1688', <span id=\"1691\" style=\"cursor: pointer;\">&hellip;)</span></div></div><div class=\"1690\" style=\"display: none;\"><div style=\"display: table-cell;\"></div><div style=\"display: table-cell;\">data_source&nbsp;=&nbsp;ColumnDataSource(id='1685', ...),</div></div><div class=\"1690\" style=\"display: none;\"><div style=\"display: table-cell;\"></div><div style=\"display: table-cell;\">glyph&nbsp;=&nbsp;Line(id='1686', ...),</div></div><div class=\"1690\" style=\"display: none;\"><div style=\"display: table-cell;\"></div><div style=\"display: table-cell;\">hover_glyph&nbsp;=&nbsp;None,</div></div><div class=\"1690\" style=\"display: none;\"><div style=\"display: table-cell;\"></div><div style=\"display: table-cell;\">js_event_callbacks&nbsp;=&nbsp;{},</div></div><div class=\"1690\" style=\"display: none;\"><div style=\"display: table-cell;\"></div><div style=\"display: table-cell;\">js_property_callbacks&nbsp;=&nbsp;{},</div></div><div class=\"1690\" style=\"display: none;\"><div style=\"display: table-cell;\"></div><div style=\"display: table-cell;\">level&nbsp;=&nbsp;'glyph',</div></div><div class=\"1690\" style=\"display: none;\"><div style=\"display: table-cell;\"></div><div style=\"display: table-cell;\">muted&nbsp;=&nbsp;False,</div></div><div class=\"1690\" style=\"display: none;\"><div style=\"display: table-cell;\"></div><div style=\"display: table-cell;\">muted_glyph&nbsp;=&nbsp;None,</div></div><div class=\"1690\" style=\"display: none;\"><div style=\"display: table-cell;\"></div><div style=\"display: table-cell;\">name&nbsp;=&nbsp;None,</div></div><div class=\"1690\" style=\"display: none;\"><div style=\"display: table-cell;\"></div><div style=\"display: table-cell;\">nonselection_glyph&nbsp;=&nbsp;Line(id='1687', ...),</div></div><div class=\"1690\" style=\"display: none;\"><div style=\"display: table-cell;\"></div><div style=\"display: table-cell;\">selection_glyph&nbsp;=&nbsp;'auto',</div></div><div class=\"1690\" style=\"display: none;\"><div style=\"display: table-cell;\"></div><div style=\"display: table-cell;\">subscribed_events&nbsp;=&nbsp;[],</div></div><div class=\"1690\" style=\"display: none;\"><div style=\"display: table-cell;\"></div><div style=\"display: table-cell;\">syncable&nbsp;=&nbsp;True,</div></div><div class=\"1690\" style=\"display: none;\"><div style=\"display: table-cell;\"></div><div style=\"display: table-cell;\">tags&nbsp;=&nbsp;[],</div></div><div class=\"1690\" style=\"display: none;\"><div style=\"display: table-cell;\"></div><div style=\"display: table-cell;\">view&nbsp;=&nbsp;CDSView(id='1689', ...),</div></div><div class=\"1690\" style=\"display: none;\"><div style=\"display: table-cell;\"></div><div style=\"display: table-cell;\">visible&nbsp;=&nbsp;True,</div></div><div class=\"1690\" style=\"display: none;\"><div style=\"display: table-cell;\"></div><div style=\"display: table-cell;\">x_range_name&nbsp;=&nbsp;'default',</div></div><div class=\"1690\" style=\"display: none;\"><div style=\"display: table-cell;\"></div><div style=\"display: table-cell;\">y_range_name&nbsp;=&nbsp;'default')</div></div></div>\n",
       "<script>\n",
       "(function() {\n",
       "  var expanded = false;\n",
       "  var ellipsis = document.getElementById(\"1691\");\n",
       "  ellipsis.addEventListener(\"click\", function() {\n",
       "    var rows = document.getElementsByClassName(\"1690\");\n",
       "    for (var i = 0; i < rows.length; i++) {\n",
       "      var el = rows[i];\n",
       "      el.style.display = expanded ? \"none\" : \"table-row\";\n",
       "    }\n",
       "    ellipsis.innerHTML = expanded ? \"&hellip;)\" : \"&lsaquo;&lsaquo;&lsaquo;\";\n",
       "    expanded = !expanded;\n",
       "  });\n",
       "})();\n",
       "</script>\n"
      ],
      "text/plain": [
       "GlyphRenderer(id='1688', ...)"
      ]
     },
     "execution_count": 46,
     "metadata": {},
     "output_type": "execute_result"
    }
   ],
   "source": [
    "fig.line(x3,y3)"
   ]
  },
  {
   "cell_type": "code",
   "execution_count": 47,
   "id": "unable-smart",
   "metadata": {},
   "outputs": [
    {
     "data": {
      "text/html": [
       "\n",
       "\n",
       "\n",
       "\n",
       "\n",
       "\n",
       "  <div class=\"bk-root\" id=\"0380fa03-bca7-4cbe-a9d5-b58a5780f552\" data-root-id=\"1654\"></div>\n"
      ]
     },
     "metadata": {},
     "output_type": "display_data"
    },
    {
     "data": {
      "application/javascript": [
       "(function(root) {\n",
       "  function embed_document(root) {\n",
       "    \n",
       "  var docs_json = {\"55c308e4-23c2-45b6-956e-2d75aa87948e\":{\"defs\":[{\"extends\":null,\"module\":null,\"name\":\"DataModel\",\"overrides\":[],\"properties\":[]}],\"roots\":{\"references\":[{\"attributes\":{\"below\":[{\"id\":\"1663\"}],\"center\":[{\"id\":\"1666\"},{\"id\":\"1670\"}],\"height\":200,\"left\":[{\"id\":\"1667\"}],\"renderers\":[{\"id\":\"1688\"}],\"title\":{\"id\":\"1731\"},\"toolbar\":{\"id\":\"1678\"},\"width\":400,\"x_range\":{\"id\":\"1655\"},\"x_scale\":{\"id\":\"1659\"},\"y_range\":{\"id\":\"1657\"},\"y_scale\":{\"id\":\"1661\"}},\"id\":\"1654\",\"subtype\":\"Figure\",\"type\":\"Plot\"},{\"attributes\":{\"axis\":{\"id\":\"1667\"},\"dimension\":1,\"ticker\":null},\"id\":\"1670\",\"type\":\"Grid\"},{\"attributes\":{},\"id\":\"1735\",\"type\":\"AllLabels\"},{\"attributes\":{\"axis\":{\"id\":\"1663\"},\"ticker\":null},\"id\":\"1666\",\"type\":\"Grid\"},{\"attributes\":{},\"id\":\"1734\",\"type\":\"BasicTickFormatter\"},{\"attributes\":{},\"id\":\"1661\",\"type\":\"LinearScale\"},{\"attributes\":{\"formatter\":{\"id\":\"1737\"},\"major_label_policy\":{\"id\":\"1738\"},\"ticker\":{\"id\":\"1668\"}},\"id\":\"1667\",\"type\":\"LinearAxis\"},{\"attributes\":{},\"id\":\"1659\",\"type\":\"LinearScale\"},{\"attributes\":{},\"id\":\"1731\",\"type\":\"Title\"},{\"attributes\":{\"overlay\":{\"id\":\"1677\"}},\"id\":\"1673\",\"type\":\"BoxZoomTool\"},{\"attributes\":{},\"id\":\"1657\",\"type\":\"DataRange1d\"},{\"attributes\":{},\"id\":\"1675\",\"type\":\"ResetTool\"},{\"attributes\":{},\"id\":\"1672\",\"type\":\"WheelZoomTool\"},{\"attributes\":{},\"id\":\"1664\",\"type\":\"BasicTicker\"},{\"attributes\":{},\"id\":\"1737\",\"type\":\"BasicTickFormatter\"},{\"attributes\":{},\"id\":\"1738\",\"type\":\"AllLabels\"},{\"attributes\":{\"active_multi\":null,\"tools\":[{\"id\":\"1671\"},{\"id\":\"1672\"},{\"id\":\"1673\"},{\"id\":\"1674\"},{\"id\":\"1675\"},{\"id\":\"1676\"}]},\"id\":\"1678\",\"type\":\"Toolbar\"},{\"attributes\":{},\"id\":\"1671\",\"type\":\"PanTool\"},{\"attributes\":{},\"id\":\"1739\",\"type\":\"Selection\"},{\"attributes\":{},\"id\":\"1740\",\"type\":\"UnionRenderers\"},{\"attributes\":{\"source\":{\"id\":\"1685\"}},\"id\":\"1689\",\"type\":\"CDSView\"},{\"attributes\":{\"bottom_units\":\"screen\",\"fill_alpha\":0.5,\"fill_color\":\"lightgrey\",\"left_units\":\"screen\",\"level\":\"overlay\",\"line_alpha\":1.0,\"line_color\":\"black\",\"line_dash\":[4,4],\"line_width\":2,\"right_units\":\"screen\",\"syncable\":false,\"top_units\":\"screen\"},\"id\":\"1677\",\"type\":\"BoxAnnotation\"},{\"attributes\":{},\"id\":\"1676\",\"type\":\"HelpTool\"},{\"attributes\":{},\"id\":\"1655\",\"type\":\"DataRange1d\"},{\"attributes\":{\"data_source\":{\"id\":\"1685\"},\"glyph\":{\"id\":\"1686\"},\"hover_glyph\":null,\"muted_glyph\":null,\"nonselection_glyph\":{\"id\":\"1687\"},\"view\":{\"id\":\"1689\"}},\"id\":\"1688\",\"type\":\"GlyphRenderer\"},{\"attributes\":{\"formatter\":{\"id\":\"1734\"},\"major_label_policy\":{\"id\":\"1735\"},\"ticker\":{\"id\":\"1664\"}},\"id\":\"1663\",\"type\":\"LinearAxis\"},{\"attributes\":{\"data\":{\"x\":{\"__ndarray__\":\"AAAAAAAAAAB7FK5H4XqEP3sUrkfhepQ/uB6F61G4nj97FK5H4XqkP5qZmZmZmak/uB6F61G4rj/sUbgeheuxP3sUrkfherQ/CtejcD0Ktz+amZmZmZm5Pylcj8L1KLw/uB6F61G4vj+kcD0K16PAP+xRuB6F68E/MzMzMzMzwz97FK5H4XrEP8P1KFyPwsU/CtejcD0Kxz9SuB6F61HIP5qZmZmZmck/4XoUrkfhyj8pXI/C9SjMP3E9CtejcM0/uB6F61G4zj8AAAAAAADQP6RwPQrXo9A/SOF6FK5H0T/sUbgehevRP4/C9Shcj9I/MzMzMzMz0z/Xo3A9CtfTP3sUrkfhetQ/H4XrUbge1T/D9Shcj8LVP2ZmZmZmZtY/CtejcD0K1z+uR+F6FK7XP1K4HoXrUdg/9ihcj8L12D+amZmZmZnZPz0K16NwPdo/4XoUrkfh2j+F61G4HoXbPylcj8L1KNw/zczMzMzM3D9xPQrXo3DdPxSuR+F6FN4/uB6F61G43j9cj8L1KFzfPwAAAAAAAOA/UrgehetR4D+kcD0K16PgP/YoXI/C9eA/SOF6FK5H4T+amZmZmZnhP+xRuB6F6+E/PQrXo3A94j+PwvUoXI/iP+F6FK5H4eI/MzMzMzMz4z+F61G4HoXjP9ejcD0K1+M/KVyPwvUo5D97FK5H4XrkP83MzMzMzOQ/H4XrUbge5T9xPQrXo3DlP8P1KFyPwuU/FK5H4XoU5j9mZmZmZmbmP7gehetRuOY/CtejcD0K5z9cj8L1KFznP65H4XoUruc/AAAAAAAA6D9SuB6F61HoP6RwPQrXo+g/9ihcj8L16D9I4XoUrkfpP5qZmZmZmek/7FG4HoXr6T89CtejcD3qP4/C9Shcj+o/4XoUrkfh6j8zMzMzMzPrP4XrUbgehes/16NwPQrX6z8pXI/C9SjsP3sUrkfheuw/zczMzMzM7D8fhetRuB7tP3E9CtejcO0/w/UoXI/C7T8UrkfhehTuP2ZmZmZmZu4/uB6F61G47j8K16NwPQrvP1yPwvUoXO8/rkfhehSu7z8AAAAAAADwPw==\",\"dtype\":\"float64\",\"order\":\"little\",\"shape\":[101]},\"y\":{\"__ndarray__\":\"bxKDwMohCcBGtvP91PgIwB1aZDvfzwjA9P3UeOmmCMDLoUW2830IwKJFtvP9VAjAeekmMQgsCMBQjZduEgMIwCcxCKwc2gfA/tR46SaxB8DVeOkmMYgHwKwcWmQ7XwfAhMDKoUU2B8BaZDvfTw0HwDIIrBxa5AbACawcWmS7BsDgT42XbpIGwLfz/dR4aQbAjpduEoNABsBlO99PjRcGwDzfT42X7gXAE4PAyqHFBcDqJjEIrJwFwMHKoUW2cwXAmG4Sg8BKBcBvEoPAyiEFwEa28/3U+ATAHVpkO9/PBMD0/dR46aYEwMuhRbbzfQTAokW28/1UBMB56SYxCCwEwFCNl24SAwTAJzEIrBzaA8D+1HjpJrEDwNZ46SYxiAPArBxaZDtfA8CEwMqhRTYDwFpkO99PDQPAMgisHFrkAsAIrBxaZLsCwOBPjZdukgLAt/P91HhpAsCOl24Sg0ACwGU730+NFwLAPN9PjZfuAcATg8DKocUBwOomMQisnAHAwcqhRbZzAcCYbhKDwEoBwG8Sg8DKIQHARrbz/dT4AMAdWmQ7388AwPT91HjppgDAy6FFtvN9AMCiRbbz/VQAwHnpJjEILADAUI2XbhIDAMBPYhBYObT/v/2p8dJNYv+/q/HSTWIQ/79ZObTIdr7+vweBlUOLbP6/tch2vp8a/r9jEFg5tMj9vxFYObTIdv2/v58aL90k/b9t5/up8dL8vxsv3SQGgfy/yna+nxov/L94vp8aL937vyYGgZVDi/u/1E1iEFg5+7+ClUOLbOf6vzDdJAaBlfq/3iQGgZVD+r+MbOf7qfH5vzq0yHa+n/m/6Pup8dJN+b+WQ4ts5/v4v0SLbOf7qfi/8tJNYhBY+L+hGi/dJAb4v09iEFg5tPe//anx0k1i97+r8dJNYhD3v1k5tMh2vva/B4GVQ4ts9r+1yHa+nxr2v2MQWDm0yPW/EVg5tMh29b+/nxov3ST1v23n+6nx0vS/Gy/dJAaB9L/Kdr6fGi/0v3i+nxov3fO/JgaBlUOL87/UTWIQWDnzv4KVQ4ts5/K/MN0kBoGV8r/eJAaBlUPyvw==\",\"dtype\":\"float64\",\"order\":\"little\",\"shape\":[101]}},\"selected\":{\"id\":\"1739\"},\"selection_policy\":{\"id\":\"1740\"}},\"id\":\"1685\",\"type\":\"ColumnDataSource\"},{\"attributes\":{},\"id\":\"1668\",\"type\":\"BasicTicker\"},{\"attributes\":{},\"id\":\"1674\",\"type\":\"SaveTool\"},{\"attributes\":{\"line_alpha\":0.1,\"line_color\":\"#1f77b4\",\"x\":{\"field\":\"x\"},\"y\":{\"field\":\"y\"}},\"id\":\"1687\",\"type\":\"Line\"},{\"attributes\":{\"line_color\":\"#1f77b4\",\"x\":{\"field\":\"x\"},\"y\":{\"field\":\"y\"}},\"id\":\"1686\",\"type\":\"Line\"}],\"root_ids\":[\"1654\"]},\"title\":\"Bokeh Application\",\"version\":\"2.3.0\"}};\n",
       "  var render_items = [{\"docid\":\"55c308e4-23c2-45b6-956e-2d75aa87948e\",\"root_ids\":[\"1654\"],\"roots\":{\"1654\":\"0380fa03-bca7-4cbe-a9d5-b58a5780f552\"}}];\n",
       "  root.Bokeh.embed.embed_items_notebook(docs_json, render_items);\n",
       "\n",
       "  }\n",
       "  if (root.Bokeh !== undefined) {\n",
       "    embed_document(root);\n",
       "  } else {\n",
       "    var attempts = 0;\n",
       "    var timer = setInterval(function(root) {\n",
       "      if (root.Bokeh !== undefined) {\n",
       "        clearInterval(timer);\n",
       "        embed_document(root);\n",
       "      } else {\n",
       "        attempts++;\n",
       "        if (attempts > 100) {\n",
       "          clearInterval(timer);\n",
       "          console.log(\"Bokeh: ERROR: Unable to run BokehJS code because BokehJS library is missing\");\n",
       "        }\n",
       "      }\n",
       "    }, 10, root)\n",
       "  }\n",
       "})(window);"
      ],
      "application/vnd.bokehjs_exec.v0+json": ""
     },
     "metadata": {
      "application/vnd.bokehjs_exec.v0+json": {
       "id": "1654"
      }
     },
     "output_type": "display_data"
    }
   ],
   "source": [
    "bp.show(fig)"
   ]
  },
  {
   "cell_type": "code",
   "execution_count": 21,
   "id": "standing-software",
   "metadata": {},
   "outputs": [],
   "source": [
    "import numpy.random as npr"
   ]
  },
  {
   "cell_type": "code",
   "execution_count": 32,
   "id": "interim-relations",
   "metadata": {},
   "outputs": [
    {
     "data": {
      "text/plain": [
       "-0.3513224213235954"
      ]
     },
     "execution_count": 32,
     "metadata": {},
     "output_type": "execute_result"
    }
   ],
   "source": [
    "npr.randn()"
   ]
  },
  {
   "cell_type": "code",
   "execution_count": 41,
   "id": "standard-blink",
   "metadata": {},
   "outputs": [],
   "source": [
    "yn = np.array([x + npr.randn() for x in x3])"
   ]
  },
  {
   "cell_type": "code",
   "execution_count": 48,
   "id": "retired-clark",
   "metadata": {},
   "outputs": [
    {
     "data": {
      "text/html": [
       "<div style=\"display: table;\"><div style=\"display: table-row;\"><div style=\"display: table-cell;\"><b title=\"bokeh.models.renderers.GlyphRenderer\">GlyphRenderer</b>(</div><div style=\"display: table-cell;\">id&nbsp;=&nbsp;'1800', <span id=\"1855\" style=\"cursor: pointer;\">&hellip;)</span></div></div><div class=\"1854\" style=\"display: none;\"><div style=\"display: table-cell;\"></div><div style=\"display: table-cell;\">data_source&nbsp;=&nbsp;ColumnDataSource(id='1797', ...),</div></div><div class=\"1854\" style=\"display: none;\"><div style=\"display: table-cell;\"></div><div style=\"display: table-cell;\">glyph&nbsp;=&nbsp;Circle(id='1798', ...),</div></div><div class=\"1854\" style=\"display: none;\"><div style=\"display: table-cell;\"></div><div style=\"display: table-cell;\">hover_glyph&nbsp;=&nbsp;None,</div></div><div class=\"1854\" style=\"display: none;\"><div style=\"display: table-cell;\"></div><div style=\"display: table-cell;\">js_event_callbacks&nbsp;=&nbsp;{},</div></div><div class=\"1854\" style=\"display: none;\"><div style=\"display: table-cell;\"></div><div style=\"display: table-cell;\">js_property_callbacks&nbsp;=&nbsp;{},</div></div><div class=\"1854\" style=\"display: none;\"><div style=\"display: table-cell;\"></div><div style=\"display: table-cell;\">level&nbsp;=&nbsp;'glyph',</div></div><div class=\"1854\" style=\"display: none;\"><div style=\"display: table-cell;\"></div><div style=\"display: table-cell;\">muted&nbsp;=&nbsp;False,</div></div><div class=\"1854\" style=\"display: none;\"><div style=\"display: table-cell;\"></div><div style=\"display: table-cell;\">muted_glyph&nbsp;=&nbsp;None,</div></div><div class=\"1854\" style=\"display: none;\"><div style=\"display: table-cell;\"></div><div style=\"display: table-cell;\">name&nbsp;=&nbsp;None,</div></div><div class=\"1854\" style=\"display: none;\"><div style=\"display: table-cell;\"></div><div style=\"display: table-cell;\">nonselection_glyph&nbsp;=&nbsp;Circle(id='1799', ...),</div></div><div class=\"1854\" style=\"display: none;\"><div style=\"display: table-cell;\"></div><div style=\"display: table-cell;\">selection_glyph&nbsp;=&nbsp;'auto',</div></div><div class=\"1854\" style=\"display: none;\"><div style=\"display: table-cell;\"></div><div style=\"display: table-cell;\">subscribed_events&nbsp;=&nbsp;[],</div></div><div class=\"1854\" style=\"display: none;\"><div style=\"display: table-cell;\"></div><div style=\"display: table-cell;\">syncable&nbsp;=&nbsp;True,</div></div><div class=\"1854\" style=\"display: none;\"><div style=\"display: table-cell;\"></div><div style=\"display: table-cell;\">tags&nbsp;=&nbsp;[],</div></div><div class=\"1854\" style=\"display: none;\"><div style=\"display: table-cell;\"></div><div style=\"display: table-cell;\">view&nbsp;=&nbsp;CDSView(id='1801', ...),</div></div><div class=\"1854\" style=\"display: none;\"><div style=\"display: table-cell;\"></div><div style=\"display: table-cell;\">visible&nbsp;=&nbsp;True,</div></div><div class=\"1854\" style=\"display: none;\"><div style=\"display: table-cell;\"></div><div style=\"display: table-cell;\">x_range_name&nbsp;=&nbsp;'default',</div></div><div class=\"1854\" style=\"display: none;\"><div style=\"display: table-cell;\"></div><div style=\"display: table-cell;\">y_range_name&nbsp;=&nbsp;'default')</div></div></div>\n",
       "<script>\n",
       "(function() {\n",
       "  var expanded = false;\n",
       "  var ellipsis = document.getElementById(\"1855\");\n",
       "  ellipsis.addEventListener(\"click\", function() {\n",
       "    var rows = document.getElementsByClassName(\"1854\");\n",
       "    for (var i = 0; i < rows.length; i++) {\n",
       "      var el = rows[i];\n",
       "      el.style.display = expanded ? \"none\" : \"table-row\";\n",
       "    }\n",
       "    ellipsis.innerHTML = expanded ? \"&hellip;)\" : \"&lsaquo;&lsaquo;&lsaquo;\";\n",
       "    expanded = !expanded;\n",
       "  });\n",
       "})();\n",
       "</script>\n"
      ],
      "text/plain": [
       "GlyphRenderer(id='1800', ...)"
      ]
     },
     "execution_count": 48,
     "metadata": {},
     "output_type": "execute_result"
    }
   ],
   "source": [
    "fig.circle(x3, yn, size = 5)"
   ]
  },
  {
   "cell_type": "code",
   "execution_count": 49,
   "id": "contained-sarah",
   "metadata": {},
   "outputs": [
    {
     "data": {
      "text/html": [
       "\n",
       "\n",
       "\n",
       "\n",
       "\n",
       "\n",
       "  <div class=\"bk-root\" id=\"02463f58-e0ff-4ded-ae63-110614ec5780\" data-root-id=\"1654\"></div>\n"
      ]
     },
     "metadata": {},
     "output_type": "display_data"
    },
    {
     "data": {
      "application/javascript": [
       "(function(root) {\n",
       "  function embed_document(root) {\n",
       "    \n",
       "  var docs_json = {\"7fb31f5f-e4d5-4fe0-9afa-fef656c3f606\":{\"defs\":[{\"extends\":null,\"module\":null,\"name\":\"DataModel\",\"overrides\":[],\"properties\":[]}],\"roots\":{\"references\":[{\"attributes\":{\"below\":[{\"id\":\"1663\"}],\"center\":[{\"id\":\"1666\"},{\"id\":\"1670\"}],\"height\":200,\"left\":[{\"id\":\"1667\"}],\"renderers\":[{\"id\":\"1688\"},{\"id\":\"1800\"}],\"title\":{\"id\":\"1731\"},\"toolbar\":{\"id\":\"1678\"},\"width\":400,\"x_range\":{\"id\":\"1655\"},\"x_scale\":{\"id\":\"1659\"},\"y_range\":{\"id\":\"1657\"},\"y_scale\":{\"id\":\"1661\"}},\"id\":\"1654\",\"subtype\":\"Figure\",\"type\":\"Plot\"},{\"attributes\":{\"axis\":{\"id\":\"1667\"},\"dimension\":1,\"ticker\":null},\"id\":\"1670\",\"type\":\"Grid\"},{\"attributes\":{},\"id\":\"1735\",\"type\":\"AllLabels\"},{\"attributes\":{\"axis\":{\"id\":\"1663\"},\"ticker\":null},\"id\":\"1666\",\"type\":\"Grid\"},{\"attributes\":{},\"id\":\"1734\",\"type\":\"BasicTickFormatter\"},{\"attributes\":{},\"id\":\"1661\",\"type\":\"LinearScale\"},{\"attributes\":{\"formatter\":{\"id\":\"1737\"},\"major_label_policy\":{\"id\":\"1738\"},\"ticker\":{\"id\":\"1668\"}},\"id\":\"1667\",\"type\":\"LinearAxis\"},{\"attributes\":{},\"id\":\"1659\",\"type\":\"LinearScale\"},{\"attributes\":{},\"id\":\"1731\",\"type\":\"Title\"},{\"attributes\":{\"overlay\":{\"id\":\"1677\"}},\"id\":\"1673\",\"type\":\"BoxZoomTool\"},{\"attributes\":{},\"id\":\"1657\",\"type\":\"DataRange1d\"},{\"attributes\":{},\"id\":\"1675\",\"type\":\"ResetTool\"},{\"attributes\":{},\"id\":\"1672\",\"type\":\"WheelZoomTool\"},{\"attributes\":{\"data_source\":{\"id\":\"1797\"},\"glyph\":{\"id\":\"1798\"},\"hover_glyph\":null,\"muted_glyph\":null,\"nonselection_glyph\":{\"id\":\"1799\"},\"view\":{\"id\":\"1801\"}},\"id\":\"1800\",\"type\":\"GlyphRenderer\"},{\"attributes\":{},\"id\":\"1664\",\"type\":\"BasicTicker\"},{\"attributes\":{},\"id\":\"1737\",\"type\":\"BasicTickFormatter\"},{\"attributes\":{\"fill_color\":{\"value\":\"#1f77b4\"},\"line_color\":{\"value\":\"#1f77b4\"},\"size\":{\"value\":5},\"x\":{\"field\":\"x\"},\"y\":{\"field\":\"y\"}},\"id\":\"1798\",\"type\":\"Circle\"},{\"attributes\":{},\"id\":\"1738\",\"type\":\"AllLabels\"},{\"attributes\":{\"source\":{\"id\":\"1797\"}},\"id\":\"1801\",\"type\":\"CDSView\"},{\"attributes\":{\"active_multi\":null,\"tools\":[{\"id\":\"1671\"},{\"id\":\"1672\"},{\"id\":\"1673\"},{\"id\":\"1674\"},{\"id\":\"1675\"},{\"id\":\"1676\"}]},\"id\":\"1678\",\"type\":\"Toolbar\"},{\"attributes\":{\"data\":{\"x\":{\"__ndarray__\":\"AAAAAAAAAAB7FK5H4XqEP3sUrkfhepQ/uB6F61G4nj97FK5H4XqkP5qZmZmZmak/uB6F61G4rj/sUbgeheuxP3sUrkfherQ/CtejcD0Ktz+amZmZmZm5Pylcj8L1KLw/uB6F61G4vj+kcD0K16PAP+xRuB6F68E/MzMzMzMzwz97FK5H4XrEP8P1KFyPwsU/CtejcD0Kxz9SuB6F61HIP5qZmZmZmck/4XoUrkfhyj8pXI/C9SjMP3E9CtejcM0/uB6F61G4zj8AAAAAAADQP6RwPQrXo9A/SOF6FK5H0T/sUbgehevRP4/C9Shcj9I/MzMzMzMz0z/Xo3A9CtfTP3sUrkfhetQ/H4XrUbge1T/D9Shcj8LVP2ZmZmZmZtY/CtejcD0K1z+uR+F6FK7XP1K4HoXrUdg/9ihcj8L12D+amZmZmZnZPz0K16NwPdo/4XoUrkfh2j+F61G4HoXbPylcj8L1KNw/zczMzMzM3D9xPQrXo3DdPxSuR+F6FN4/uB6F61G43j9cj8L1KFzfPwAAAAAAAOA/UrgehetR4D+kcD0K16PgP/YoXI/C9eA/SOF6FK5H4T+amZmZmZnhP+xRuB6F6+E/PQrXo3A94j+PwvUoXI/iP+F6FK5H4eI/MzMzMzMz4z+F61G4HoXjP9ejcD0K1+M/KVyPwvUo5D97FK5H4XrkP83MzMzMzOQ/H4XrUbge5T9xPQrXo3DlP8P1KFyPwuU/FK5H4XoU5j9mZmZmZmbmP7gehetRuOY/CtejcD0K5z9cj8L1KFznP65H4XoUruc/AAAAAAAA6D9SuB6F61HoP6RwPQrXo+g/9ihcj8L16D9I4XoUrkfpP5qZmZmZmek/7FG4HoXr6T89CtejcD3qP4/C9Shcj+o/4XoUrkfh6j8zMzMzMzPrP4XrUbgehes/16NwPQrX6z8pXI/C9SjsP3sUrkfheuw/zczMzMzM7D8fhetRuB7tP3E9CtejcO0/w/UoXI/C7T8UrkfhehTuP2ZmZmZmZu4/uB6F61G47j8K16NwPQrvP1yPwvUoXO8/rkfhehSu7z8AAAAAAADwPw==\",\"dtype\":\"float64\",\"order\":\"little\",\"shape\":[101]},\"y\":{\"__ndarray__\":\"6afUVEE567/knNqB0RXsP2AT0252sNS/iFdwLjq0079qq2jVRX8AQAjN0nnB/co/To9SgCtv6L8ZcjOixqTGv0gMX2AiBME/4rC8VZP77T8sPFxFWQH6v1YYCiMhhKC/6IqFfjkB/D+CSCwHfGbrP1l9qQyGT8g/aP1NAMun379kANZnNivSv4+HTV39VPO/BLhNvdhN0z9owwCUwcHpv6o2rRkvbPe/kf0ko95l+j/u58u0fbr8P9pwCgZPgM8/pNi0aWfotz+c2RB6CXPrv3a/47hvXgLAb1bd/yEn8L+RmSvuF9n0v/xmRYLAzKw/moGeS+/Z4z9pddbky23cPy554BvgjOa/cQhoCKARBEBAodlB9zL1PyAEKPcC0fQ/6CUhFvP37z/jIeHu1JLoP7hqvN2j4eM/r5MH8Nk2zT8eOsC0IgUAQM9YoPx5Qfq/ZvbtkEtt8b+ciG3OgRPtvxApmmOSfOc/aY03OoAK7T9CcxPG49PCP8j/I29bg+O/H726ueij9T/8V4eGwUzhvwbWD0bEf88/IOaHz6UhBEDwo9E5TICbP04pfX1av/s/520Gq+zwBUBu12D1PGHjP883RPacKOI/6Nb2ouZGzz+ZSOwoMMzrP7AFVXyAKfO/7FrUOA9j/z9gfO4ifMKsv8jnHWbiz/k/MaXnUFRk4L9emWSQ/9DdP4g9x6BeLgBA/MVCxHb+9z8AZDjoJlhFPwASSCq6Rvk/T44Vz5Rm/j9diyKqMvLmP/gIuxDtSsA/7j45Lygl9z+A1aWCC+99P/ATBVIbIaW/ugJK/h/Q7z8kNjYTcZ71P7p3hYZ1JvI/0IMKlDwVuD8QUzuRjVTiP0QYQO+Npvc/yTNdfFdz6D98wOVoPyfsP4KZm0MasQBAEKAHbb7X/j+EVJLux9b1PwzNAmRUy+I/5HJkN3rKyb8ufCh3Fh/8P4JwFrtjxtc/glE6hnHp6z/eXAavgLX4PzPHF8Gl0ek//+9X0M8Q9D8QPeBdRcb2P3QDJaVnwfE/uSDsrZvS7z8Uslmp+ZvlP2DGqjsA2am/wgmllQLF2T/OsmLmSUTqPw==\",\"dtype\":\"float64\",\"order\":\"little\",\"shape\":[101]}},\"selected\":{\"id\":\"1851\"},\"selection_policy\":{\"id\":\"1852\"}},\"id\":\"1797\",\"type\":\"ColumnDataSource\"},{\"attributes\":{},\"id\":\"1671\",\"type\":\"PanTool\"},{\"attributes\":{},\"id\":\"1739\",\"type\":\"Selection\"},{\"attributes\":{},\"id\":\"1740\",\"type\":\"UnionRenderers\"},{\"attributes\":{},\"id\":\"1851\",\"type\":\"Selection\"},{\"attributes\":{\"source\":{\"id\":\"1685\"}},\"id\":\"1689\",\"type\":\"CDSView\"},{\"attributes\":{},\"id\":\"1852\",\"type\":\"UnionRenderers\"},{\"attributes\":{\"bottom_units\":\"screen\",\"fill_alpha\":0.5,\"fill_color\":\"lightgrey\",\"left_units\":\"screen\",\"level\":\"overlay\",\"line_alpha\":1.0,\"line_color\":\"black\",\"line_dash\":[4,4],\"line_width\":2,\"right_units\":\"screen\",\"syncable\":false,\"top_units\":\"screen\"},\"id\":\"1677\",\"type\":\"BoxAnnotation\"},{\"attributes\":{},\"id\":\"1676\",\"type\":\"HelpTool\"},{\"attributes\":{},\"id\":\"1655\",\"type\":\"DataRange1d\"},{\"attributes\":{\"data_source\":{\"id\":\"1685\"},\"glyph\":{\"id\":\"1686\"},\"hover_glyph\":null,\"muted_glyph\":null,\"nonselection_glyph\":{\"id\":\"1687\"},\"view\":{\"id\":\"1689\"}},\"id\":\"1688\",\"type\":\"GlyphRenderer\"},{\"attributes\":{\"formatter\":{\"id\":\"1734\"},\"major_label_policy\":{\"id\":\"1735\"},\"ticker\":{\"id\":\"1664\"}},\"id\":\"1663\",\"type\":\"LinearAxis\"},{\"attributes\":{\"data\":{\"x\":{\"__ndarray__\":\"AAAAAAAAAAB7FK5H4XqEP3sUrkfhepQ/uB6F61G4nj97FK5H4XqkP5qZmZmZmak/uB6F61G4rj/sUbgeheuxP3sUrkfherQ/CtejcD0Ktz+amZmZmZm5Pylcj8L1KLw/uB6F61G4vj+kcD0K16PAP+xRuB6F68E/MzMzMzMzwz97FK5H4XrEP8P1KFyPwsU/CtejcD0Kxz9SuB6F61HIP5qZmZmZmck/4XoUrkfhyj8pXI/C9SjMP3E9CtejcM0/uB6F61G4zj8AAAAAAADQP6RwPQrXo9A/SOF6FK5H0T/sUbgehevRP4/C9Shcj9I/MzMzMzMz0z/Xo3A9CtfTP3sUrkfhetQ/H4XrUbge1T/D9Shcj8LVP2ZmZmZmZtY/CtejcD0K1z+uR+F6FK7XP1K4HoXrUdg/9ihcj8L12D+amZmZmZnZPz0K16NwPdo/4XoUrkfh2j+F61G4HoXbPylcj8L1KNw/zczMzMzM3D9xPQrXo3DdPxSuR+F6FN4/uB6F61G43j9cj8L1KFzfPwAAAAAAAOA/UrgehetR4D+kcD0K16PgP/YoXI/C9eA/SOF6FK5H4T+amZmZmZnhP+xRuB6F6+E/PQrXo3A94j+PwvUoXI/iP+F6FK5H4eI/MzMzMzMz4z+F61G4HoXjP9ejcD0K1+M/KVyPwvUo5D97FK5H4XrkP83MzMzMzOQ/H4XrUbge5T9xPQrXo3DlP8P1KFyPwuU/FK5H4XoU5j9mZmZmZmbmP7gehetRuOY/CtejcD0K5z9cj8L1KFznP65H4XoUruc/AAAAAAAA6D9SuB6F61HoP6RwPQrXo+g/9ihcj8L16D9I4XoUrkfpP5qZmZmZmek/7FG4HoXr6T89CtejcD3qP4/C9Shcj+o/4XoUrkfh6j8zMzMzMzPrP4XrUbgehes/16NwPQrX6z8pXI/C9SjsP3sUrkfheuw/zczMzMzM7D8fhetRuB7tP3E9CtejcO0/w/UoXI/C7T8UrkfhehTuP2ZmZmZmZu4/uB6F61G47j8K16NwPQrvP1yPwvUoXO8/rkfhehSu7z8AAAAAAADwPw==\",\"dtype\":\"float64\",\"order\":\"little\",\"shape\":[101]},\"y\":{\"__ndarray__\":\"bxKDwMohCcBGtvP91PgIwB1aZDvfzwjA9P3UeOmmCMDLoUW2830IwKJFtvP9VAjAeekmMQgsCMBQjZduEgMIwCcxCKwc2gfA/tR46SaxB8DVeOkmMYgHwKwcWmQ7XwfAhMDKoUU2B8BaZDvfTw0HwDIIrBxa5AbACawcWmS7BsDgT42XbpIGwLfz/dR4aQbAjpduEoNABsBlO99PjRcGwDzfT42X7gXAE4PAyqHFBcDqJjEIrJwFwMHKoUW2cwXAmG4Sg8BKBcBvEoPAyiEFwEa28/3U+ATAHVpkO9/PBMD0/dR46aYEwMuhRbbzfQTAokW28/1UBMB56SYxCCwEwFCNl24SAwTAJzEIrBzaA8D+1HjpJrEDwNZ46SYxiAPArBxaZDtfA8CEwMqhRTYDwFpkO99PDQPAMgisHFrkAsAIrBxaZLsCwOBPjZdukgLAt/P91HhpAsCOl24Sg0ACwGU730+NFwLAPN9PjZfuAcATg8DKocUBwOomMQisnAHAwcqhRbZzAcCYbhKDwEoBwG8Sg8DKIQHARrbz/dT4AMAdWmQ7388AwPT91HjppgDAy6FFtvN9AMCiRbbz/VQAwHnpJjEILADAUI2XbhIDAMBPYhBYObT/v/2p8dJNYv+/q/HSTWIQ/79ZObTIdr7+vweBlUOLbP6/tch2vp8a/r9jEFg5tMj9vxFYObTIdv2/v58aL90k/b9t5/up8dL8vxsv3SQGgfy/yna+nxov/L94vp8aL937vyYGgZVDi/u/1E1iEFg5+7+ClUOLbOf6vzDdJAaBlfq/3iQGgZVD+r+MbOf7qfH5vzq0yHa+n/m/6Pup8dJN+b+WQ4ts5/v4v0SLbOf7qfi/8tJNYhBY+L+hGi/dJAb4v09iEFg5tPe//anx0k1i97+r8dJNYhD3v1k5tMh2vva/B4GVQ4ts9r+1yHa+nxr2v2MQWDm0yPW/EVg5tMh29b+/nxov3ST1v23n+6nx0vS/Gy/dJAaB9L/Kdr6fGi/0v3i+nxov3fO/JgaBlUOL87/UTWIQWDnzv4KVQ4ts5/K/MN0kBoGV8r/eJAaBlUPyvw==\",\"dtype\":\"float64\",\"order\":\"little\",\"shape\":[101]}},\"selected\":{\"id\":\"1739\"},\"selection_policy\":{\"id\":\"1740\"}},\"id\":\"1685\",\"type\":\"ColumnDataSource\"},{\"attributes\":{},\"id\":\"1668\",\"type\":\"BasicTicker\"},{\"attributes\":{},\"id\":\"1674\",\"type\":\"SaveTool\"},{\"attributes\":{\"line_alpha\":0.1,\"line_color\":\"#1f77b4\",\"x\":{\"field\":\"x\"},\"y\":{\"field\":\"y\"}},\"id\":\"1687\",\"type\":\"Line\"},{\"attributes\":{\"line_color\":\"#1f77b4\",\"x\":{\"field\":\"x\"},\"y\":{\"field\":\"y\"}},\"id\":\"1686\",\"type\":\"Line\"},{\"attributes\":{\"fill_alpha\":{\"value\":0.1},\"fill_color\":{\"value\":\"#1f77b4\"},\"line_alpha\":{\"value\":0.1},\"line_color\":{\"value\":\"#1f77b4\"},\"size\":{\"value\":5},\"x\":{\"field\":\"x\"},\"y\":{\"field\":\"y\"}},\"id\":\"1799\",\"type\":\"Circle\"}],\"root_ids\":[\"1654\"]},\"title\":\"Bokeh Application\",\"version\":\"2.3.0\"}};\n",
       "  var render_items = [{\"docid\":\"7fb31f5f-e4d5-4fe0-9afa-fef656c3f606\",\"root_ids\":[\"1654\"],\"roots\":{\"1654\":\"02463f58-e0ff-4ded-ae63-110614ec5780\"}}];\n",
       "  root.Bokeh.embed.embed_items_notebook(docs_json, render_items);\n",
       "\n",
       "  }\n",
       "  if (root.Bokeh !== undefined) {\n",
       "    embed_document(root);\n",
       "  } else {\n",
       "    var attempts = 0;\n",
       "    var timer = setInterval(function(root) {\n",
       "      if (root.Bokeh !== undefined) {\n",
       "        clearInterval(timer);\n",
       "        embed_document(root);\n",
       "      } else {\n",
       "        attempts++;\n",
       "        if (attempts > 100) {\n",
       "          clearInterval(timer);\n",
       "          console.log(\"Bokeh: ERROR: Unable to run BokehJS code because BokehJS library is missing\");\n",
       "        }\n",
       "      }\n",
       "    }, 10, root)\n",
       "  }\n",
       "})(window);"
      ],
      "application/vnd.bokehjs_exec.v0+json": ""
     },
     "metadata": {
      "application/vnd.bokehjs_exec.v0+json": {
       "id": "1654"
      }
     },
     "output_type": "display_data"
    }
   ],
   "source": [
    "bp.show(fig)"
   ]
  },
  {
   "cell_type": "code",
   "execution_count": 44,
   "id": "polished-grant",
   "metadata": {},
   "outputs": [
    {
     "data": {
      "text/plain": [
       "array([-8.50739160e-01,  8.77663377e-01, -3.23270424e-01, -3.07875200e-01,\n",
       "        2.06214492e+00,  2.10869011e-01, -7.63570548e-01, -1.76903562e-01,\n",
       "        1.32938668e-01,  9.36959903e-01, -1.62532928e+00, -3.22580676e-02,\n",
       "        1.75029897e+00,  8.56260313e-01,  1.89926869e-01, -4.94616270e-01,\n",
       "       -2.83887483e-01, -1.20824944e+00,  3.01626382e-01, -8.04901876e-01,\n",
       "       -1.46391211e+00,  1.64987053e+00,  1.79553004e+00,  2.46103170e-01,\n",
       "        9.33899530e-02, -8.57792605e-01, -2.29611153e+00, -1.00955391e+00,\n",
       "       -1.30300134e+00,  5.62496337e-02,  6.20353363e-01,  4.44201444e-01,\n",
       "       -7.04696707e-01,  2.50860602e+00,  1.32494283e+00,  1.30102822e+00,\n",
       "        9.99017280e-01,  7.67923800e-01,  6.21293958e-01,  2.28236429e-01,\n",
       "        2.00250760e+00, -1.64098548e+00, -1.08918339e+00, -9.08631232e-01,\n",
       "        7.33956522e-01,  9.07531847e-01,  1.47091362e-01, -6.09784810e-01,\n",
       "        1.35251687e+00, -5.40619624e-01,  2.46086630e-01,  2.51642954e+00,\n",
       "        2.68566046e-02,  1.73421716e+00,  2.74263891e+00,  6.05619888e-01,\n",
       "        5.67457658e-01,  2.44351224e-01,  8.68675308e-01, -1.19763230e+00,\n",
       "        1.96168444e+00, -5.61713021e-02,  1.61325302e+00, -5.12247236e-01,\n",
       "        4.65881244e-01,  2.02264143e+00,  1.49962498e+00,  6.51377676e-04,\n",
       "        1.57976738e+00,  1.90004426e+00,  7.17065174e-01,  1.27286561e-01,\n",
       "        1.44657153e+00,  7.30804917e-03, -4.12682092e-02,  9.94155881e-01,\n",
       "        1.35118206e+00,  1.13438942e+00,  9.40740453e-02,  5.72821411e-01,\n",
       "        1.47816270e+00,  7.64079802e-01,  8.79790978e-01,  2.08647588e+00,\n",
       "        1.92767184e+00,  1.36493676e+00,  5.87320514e-01, -2.01491620e-01,\n",
       "        1.75758978e+00,  3.71483739e-01,  8.72246515e-01,  1.54431218e+00,\n",
       "        8.06841733e-01,  1.25410444e+00,  1.42340600e+00,  1.10971798e+00,\n",
       "        9.94458999e-01,  6.75289946e-01, -5.04837106e-02,  4.02649542e-01,\n",
       "        8.20836019e-01])"
      ]
     },
     "execution_count": 44,
     "metadata": {},
     "output_type": "execute_result"
    }
   ],
   "source": [
    "yn"
   ]
  },
  {
   "cell_type": "code",
   "execution_count": 52,
   "id": "necessary-plaza",
   "metadata": {},
   "outputs": [],
   "source": [
    "model = sklm.LinearRegression()"
   ]
  },
  {
   "cell_type": "code",
   "execution_count": 51,
   "id": "sublime-genome",
   "metadata": {},
   "outputs": [],
   "source": [
    "import sklearn.linear_model as sklm"
   ]
  },
  {
   "cell_type": "code",
   "execution_count": 54,
   "id": "provincial-spider",
   "metadata": {},
   "outputs": [
    {
     "data": {
      "text/plain": [
       "LinearRegression()"
      ]
     },
     "execution_count": 54,
     "metadata": {},
     "output_type": "execute_result"
    }
   ],
   "source": [
    "model.fit(np.reshape(x3, (-1,1)), np.reshape(y3, (-1,1)))"
   ]
  },
  {
   "cell_type": "code",
   "execution_count": 55,
   "id": "legal-cosmetic",
   "metadata": {},
   "outputs": [
    {
     "data": {
      "text/plain": [
       "{'copy_X': True,\n",
       " 'fit_intercept': True,\n",
       " 'n_jobs': None,\n",
       " 'normalize': False,\n",
       " 'positive': False}"
      ]
     },
     "execution_count": 55,
     "metadata": {},
     "output_type": "execute_result"
    }
   ],
   "source": [
    "model.get_params()"
   ]
  },
  {
   "cell_type": "code",
   "execution_count": 56,
   "id": "rural-memory",
   "metadata": {},
   "outputs": [
    {
     "ename": "NameError",
     "evalue": "name 'score' is not defined",
     "output_type": "error",
     "traceback": [
      "\u001b[1;31m---------------------------------------------------------------------------\u001b[0m",
      "\u001b[1;31mNameError\u001b[0m                                 Traceback (most recent call last)",
      "\u001b[1;32m<ipython-input-56-c29924e3f938>\u001b[0m in \u001b[0;36m<module>\u001b[1;34m\u001b[0m\n\u001b[1;32m----> 1\u001b[1;33m \u001b[0mscore\u001b[0m\u001b[1;33m(\u001b[0m\u001b[0mnp\u001b[0m\u001b[1;33m.\u001b[0m\u001b[0mreshape\u001b[0m\u001b[1;33m(\u001b[0m\u001b[0mx3\u001b[0m\u001b[1;33m,\u001b[0m \u001b[1;33m(\u001b[0m\u001b[1;33m-\u001b[0m\u001b[1;36m1\u001b[0m\u001b[1;33m,\u001b[0m\u001b[1;36m1\u001b[0m\u001b[1;33m)\u001b[0m\u001b[1;33m)\u001b[0m\u001b[1;33m,\u001b[0m \u001b[0mnp\u001b[0m\u001b[1;33m.\u001b[0m\u001b[0mreshape\u001b[0m\u001b[1;33m(\u001b[0m\u001b[0my3\u001b[0m\u001b[1;33m,\u001b[0m \u001b[1;33m(\u001b[0m\u001b[1;33m-\u001b[0m\u001b[1;36m1\u001b[0m\u001b[1;33m,\u001b[0m\u001b[1;36m1\u001b[0m\u001b[1;33m)\u001b[0m\u001b[1;33m)\u001b[0m\u001b[1;33m)\u001b[0m\u001b[1;33m\u001b[0m\u001b[1;33m\u001b[0m\u001b[0m\n\u001b[0m",
      "\u001b[1;31mNameError\u001b[0m: name 'score' is not defined"
     ]
    }
   ],
   "source": [
    "score(np.reshape(x3, (-1,1)), np.reshape(y3, (-1,1)))"
   ]
  },
  {
   "cell_type": "code",
   "execution_count": 57,
   "id": "environmental-builder",
   "metadata": {},
   "outputs": [
    {
     "data": {
      "text/plain": [
       "1.0"
      ]
     },
     "execution_count": 57,
     "metadata": {},
     "output_type": "execute_result"
    }
   ],
   "source": [
    "model.score(np.reshape(x3, (-1,1)), np.reshape(y3, (-1,1)))"
   ]
  },
  {
   "cell_type": "code",
   "execution_count": null,
   "id": "expanded-thompson",
   "metadata": {},
   "outputs": [],
   "source": []
  }
 ],
 "metadata": {
  "kernelspec": {
   "display_name": "Python 3",
   "language": "python",
   "name": "python3"
  },
  "language_info": {
   "codemirror_mode": {
    "name": "ipython",
    "version": 3
   },
   "file_extension": ".py",
   "mimetype": "text/x-python",
   "name": "python",
   "nbconvert_exporter": "python",
   "pygments_lexer": "ipython3",
   "version": "3.8.5"
  }
 },
 "nbformat": 4,
 "nbformat_minor": 5
}
